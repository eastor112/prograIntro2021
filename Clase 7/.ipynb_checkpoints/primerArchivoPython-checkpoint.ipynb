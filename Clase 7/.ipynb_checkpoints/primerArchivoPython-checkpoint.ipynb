{
 "cells": [
  {
   "cell_type": "markdown",
   "id": "43969bb7",
   "metadata": {},
   "source": [
    "## Primer programa en python usuando IDE Jupyter\n",
    "- item 1\n",
    "- item 2\n",
    "\n",
    "> *Este es un texto con sangria*\n"
   ]
  },
  {
   "cell_type": "code",
   "execution_count": 2,
   "id": "2aaac673",
   "metadata": {
    "ExecuteTime": {
     "end_time": "2021-04-26T01:26:31.633743Z",
     "start_time": "2021-04-26T01:26:31.620756Z"
    }
   },
   "outputs": [
    {
     "name": "stdout",
     "output_type": "stream",
     "text": [
      "HOLA MUNDO\n"
     ]
    }
   ],
   "source": [
    "print('HOLA MUNDO')"
   ]
  }
 ],
 "metadata": {
  "kernelspec": {
   "display_name": "Python 3",
   "language": "python",
   "name": "python3"
  },
  "language_info": {
   "codemirror_mode": {
    "name": "ipython",
    "version": 3
   },
   "file_extension": ".py",
   "mimetype": "text/x-python",
   "name": "python",
   "nbconvert_exporter": "python",
   "pygments_lexer": "ipython3",
   "version": "3.7.10"
  }
 },
 "nbformat": 4,
 "nbformat_minor": 5
}
